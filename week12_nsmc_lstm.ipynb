{
  "cells": [
    {
      "cell_type": "markdown",
      "metadata": {
        "id": "view-in-github",
        "colab_type": "text"
      },
      "source": [
        "<a href=\"https://colab.research.google.com/github/MooyeongJoo/maxwell1/blob/master/week12_nsmc_lstm.ipynb\" target=\"_parent\"><img src=\"https://colab.research.google.com/assets/colab-badge.svg\" alt=\"Open In Colab\"/></a>"
      ]
    },
    {
      "cell_type": "code",
      "execution_count": null,
      "id": "c334b409-1ad2-4b62-a07e-3e816d50650c",
      "metadata": {
        "id": "c334b409-1ad2-4b62-a07e-3e816d50650c"
      },
      "outputs": [],
      "source": [
        "import pandas as pd\n",
        "import numpy as np\n",
        "\n",
        "import matplotlib.pyplot as plt\n",
        "import koreanize_matplotlib\n",
        "import seaborn as sns\n",
        "\n",
        "from konlpy.tag import Okt\n",
        "\n",
        "from tensorflow.keras.models import Sequential\n",
        "from tensorflow.keras.preprocessing.text import Tokenizer\n",
        "from tensorflow.keras.preprocessing.sequence import pad_sequences\n",
        "from tensorflow.keras.layers import Embedding, SimpleRNN, LSTM, GRU, Bidirectional, Conv1D, GlobalMaxPooling1D, Dense\n",
        "from tensorflow.keras.utils import to_categorical\n",
        "\n",
        "from sklearn.model_selection import train_test_split\n",
        "from sklearn.metrics import accuracy_score, r2_score\n",
        "\n"
      ]
    },
    {
      "cell_type": "code",
      "execution_count": null,
      "id": "6fc154a5-6757-4dee-8b6f-63edcc0cbc05",
      "metadata": {
        "colab": {
          "base_uri": "https://localhost:8080/"
        },
        "id": "6fc154a5-6757-4dee-8b6f-63edcc0cbc05",
        "outputId": "5ffb10be-aa43-43f8-a71b-c814d058349c"
      },
      "outputs": [
        {
          "output_type": "stream",
          "name": "stdout",
          "text": [
            "샘플링된 데이터 개수: 3000\n"
          ]
        }
      ],
      "source": [
        "df = pd.read_csv(\"https://raw.githubusercontent.com/hongsukyi/Lectures/main/data/naver_movie_train.txt\", sep=\"\\t\")\n",
        "df = df.dropna(subset=['document']).drop_duplicates(['document']).reset_index(drop=True)\n",
        "\n",
        "df['token_len'] = df['document'].apply(lambda x: len(str(x).split()))\n",
        "sampled_df = df.sort_values(by='token_len', ascending=False).head(3000).reset_index(drop=True)\n",
        "print(f\"샘플링된 데이터 개수: {len(sampled_df)}\")\n",
        "\n",
        "sampled_df['document'] = sampled_df['document'].str.replace(\"[^ㄱ-ㅎㅏ-ㅣ가-힣 ]\", \"\", regex=True)\n",
        "sampled_df['document'] = sampled_df['document'].str.strip().str.lower()\n",
        "\n",
        "sampled_df.head()\n",
        "\n",
        "stopwords = ['의','가','이','은','들','는','좀','잘','걍','과','도','를','으로','자','에','와','한','하다']\n",
        "\n",
        "okt = Okt()\n",
        "\n",
        "def tokenize_and_filter(sentence):\n",
        "    tokens = okt.morphs(sentence, stem=True)\n",
        "    return [t for t in tokens if t not in stopwords and len(t) > 1]\n",
        "\n",
        "token_okt = [tokenize_and_filter(s) for s in sampled_df['document']]"
      ]
    },
    {
      "cell_type": "code",
      "execution_count": null,
      "id": "ffb7d736-bc09-4f87-a86b-551bf1c473cb",
      "metadata": {
        "id": "ffb7d736-bc09-4f87-a86b-551bf1c473cb",
        "outputId": "12f21528-cf7d-4f64-b482-861b37e79a28"
      },
      "outputs": [
        {
          "data": {
            "text/html": [
              "<div>\n",
              "<style scoped>\n",
              "    .dataframe tbody tr th:only-of-type {\n",
              "        vertical-align: middle;\n",
              "    }\n",
              "\n",
              "    .dataframe tbody tr th {\n",
              "        vertical-align: top;\n",
              "    }\n",
              "\n",
              "    .dataframe thead th {\n",
              "        text-align: right;\n",
              "    }\n",
              "</style>\n",
              "<table border=\"1\" class=\"dataframe\">\n",
              "  <thead>\n",
              "    <tr style=\"text-align: right;\">\n",
              "      <th></th>\n",
              "      <th>id</th>\n",
              "      <th>document</th>\n",
              "      <th>label</th>\n",
              "      <th>token_len</th>\n",
              "    </tr>\n",
              "  </thead>\n",
              "  <tbody>\n",
              "    <tr>\n",
              "      <th>0</th>\n",
              "      <td>9976970</td>\n",
              "      <td>아 더빙.. 진짜 짜증나네요 목소리</td>\n",
              "      <td>0</td>\n",
              "      <td>5</td>\n",
              "    </tr>\n",
              "    <tr>\n",
              "      <th>1</th>\n",
              "      <td>3819312</td>\n",
              "      <td>흠...포스터보고 초딩영화줄....오버연기조차 가볍지 않구나</td>\n",
              "      <td>1</td>\n",
              "      <td>4</td>\n",
              "    </tr>\n",
              "    <tr>\n",
              "      <th>2</th>\n",
              "      <td>10265843</td>\n",
              "      <td>너무재밓었다그래서보는것을추천한다</td>\n",
              "      <td>0</td>\n",
              "      <td>1</td>\n",
              "    </tr>\n",
              "    <tr>\n",
              "      <th>3</th>\n",
              "      <td>9045019</td>\n",
              "      <td>교도소 이야기구먼 ..솔직히 재미는 없다..평점 조정</td>\n",
              "      <td>0</td>\n",
              "      <td>6</td>\n",
              "    </tr>\n",
              "    <tr>\n",
              "      <th>4</th>\n",
              "      <td>6483659</td>\n",
              "      <td>사이몬페그의 익살스런 연기가 돋보였던 영화!스파이더맨에서 늙어보이기만 했던 커스틴 ...</td>\n",
              "      <td>1</td>\n",
              "      <td>11</td>\n",
              "    </tr>\n",
              "  </tbody>\n",
              "</table>\n",
              "</div>"
            ],
            "text/plain": [
              "         id                                           document  label  \\\n",
              "0   9976970                                아 더빙.. 진짜 짜증나네요 목소리      0   \n",
              "1   3819312                  흠...포스터보고 초딩영화줄....오버연기조차 가볍지 않구나      1   \n",
              "2  10265843                                  너무재밓었다그래서보는것을추천한다      0   \n",
              "3   9045019                      교도소 이야기구먼 ..솔직히 재미는 없다..평점 조정      0   \n",
              "4   6483659  사이몬페그의 익살스런 연기가 돋보였던 영화!스파이더맨에서 늙어보이기만 했던 커스틴 ...      1   \n",
              "\n",
              "   token_len  \n",
              "0          5  \n",
              "1          4  \n",
              "2          1  \n",
              "3          6  \n",
              "4         11  "
            ]
          },
          "execution_count": 3,
          "metadata": {},
          "output_type": "execute_result"
        }
      ],
      "source": [
        "df.head()"
      ]
    },
    {
      "cell_type": "code",
      "execution_count": null,
      "id": "85dd67b2-7c57-4940-927b-988989b26474",
      "metadata": {
        "id": "85dd67b2-7c57-4940-927b-988989b26474",
        "outputId": "88a238b4-e406-4db8-aeba-0ed2612454b4"
      },
      "outputs": [
        {
          "data": {
            "text/plain": [
              "Index(['id', 'document', 'label', 'token_len'], dtype='object')"
            ]
          },
          "execution_count": 4,
          "metadata": {},
          "output_type": "execute_result"
        }
      ],
      "source": [
        "df.columns"
      ]
    },
    {
      "cell_type": "code",
      "execution_count": null,
      "id": "9b3de312-51ad-412f-bee7-e27b33d546db",
      "metadata": {
        "id": "9b3de312-51ad-412f-bee7-e27b33d546db",
        "outputId": "4f9a7ba6-2f7d-447f-836e-8c3fb2e03c80"
      },
      "outputs": [
        {
          "data": {
            "text/html": [
              "<div>\n",
              "<style scoped>\n",
              "    .dataframe tbody tr th:only-of-type {\n",
              "        vertical-align: middle;\n",
              "    }\n",
              "\n",
              "    .dataframe tbody tr th {\n",
              "        vertical-align: top;\n",
              "    }\n",
              "\n",
              "    .dataframe thead th {\n",
              "        text-align: right;\n",
              "    }\n",
              "</style>\n",
              "<table border=\"1\" class=\"dataframe\">\n",
              "  <thead>\n",
              "    <tr style=\"text-align: right;\">\n",
              "      <th></th>\n",
              "      <th>0</th>\n",
              "      <th>1</th>\n",
              "      <th>2</th>\n",
              "      <th>3</th>\n",
              "      <th>4</th>\n",
              "      <th>5</th>\n",
              "      <th>6</th>\n",
              "      <th>7</th>\n",
              "      <th>8</th>\n",
              "      <th>9</th>\n",
              "      <th>...</th>\n",
              "      <th>31</th>\n",
              "      <th>32</th>\n",
              "      <th>33</th>\n",
              "      <th>34</th>\n",
              "      <th>35</th>\n",
              "      <th>36</th>\n",
              "      <th>37</th>\n",
              "      <th>38</th>\n",
              "      <th>39</th>\n",
              "      <th>40</th>\n",
              "    </tr>\n",
              "  </thead>\n",
              "  <tbody>\n",
              "    <tr>\n",
              "      <th>0</th>\n",
              "      <td>민좆</td>\n",
              "      <td>파쇼</td>\n",
              "      <td>쌕기</td>\n",
              "      <td>종교</td>\n",
              "      <td>같이</td>\n",
              "      <td>깔다</td>\n",
              "      <td>수준</td>\n",
              "      <td>보솤</td>\n",
              "      <td>ㅋㅋㅋㅋㅋ</td>\n",
              "      <td>미군</td>\n",
              "      <td>...</td>\n",
              "      <td>None</td>\n",
              "      <td>None</td>\n",
              "      <td>None</td>\n",
              "      <td>None</td>\n",
              "      <td>None</td>\n",
              "      <td>None</td>\n",
              "      <td>None</td>\n",
              "      <td>None</td>\n",
              "      <td>None</td>\n",
              "      <td>None</td>\n",
              "    </tr>\n",
              "    <tr>\n",
              "      <th>1</th>\n",
              "      <td>정유미</td>\n",
              "      <td>정준영</td>\n",
              "      <td>부부</td>\n",
              "      <td>막둥이</td>\n",
              "      <td>부부</td>\n",
              "      <td>보다</td>\n",
              "      <td>윤한</td>\n",
              "      <td>부부</td>\n",
              "      <td>나오다</td>\n",
              "      <td>바로</td>\n",
              "      <td>...</td>\n",
              "      <td>부부</td>\n",
              "      <td>가다</td>\n",
              "      <td>제일</td>\n",
              "      <td>없다</td>\n",
              "      <td>None</td>\n",
              "      <td>None</td>\n",
              "      <td>None</td>\n",
              "      <td>None</td>\n",
              "      <td>None</td>\n",
              "      <td>None</td>\n",
              "    </tr>\n",
              "    <tr>\n",
              "      <th>2</th>\n",
              "      <td>측정</td>\n",
              "      <td>영화</td>\n",
              "      <td>당신</td>\n",
              "      <td>마음</td>\n",
              "      <td>아직</td>\n",
              "      <td>여리다</td>\n",
              "      <td>에게</td>\n",
              "      <td>상처</td>\n",
              "      <td>주지</td>\n",
              "      <td>당신</td>\n",
              "      <td>...</td>\n",
              "      <td>None</td>\n",
              "      <td>None</td>\n",
              "      <td>None</td>\n",
              "      <td>None</td>\n",
              "      <td>None</td>\n",
              "      <td>None</td>\n",
              "      <td>None</td>\n",
              "      <td>None</td>\n",
              "      <td>None</td>\n",
              "      <td>None</td>\n",
              "    </tr>\n",
              "    <tr>\n",
              "      <th>3</th>\n",
              "      <td>황당하다</td>\n",
              "      <td>소재</td>\n",
              "      <td>전개</td>\n",
              "      <td>쓰레기</td>\n",
              "      <td>같다</td>\n",
              "      <td>스토리</td>\n",
              "      <td>수준</td>\n",
              "      <td>초월</td>\n",
              "      <td>정말</td>\n",
              "      <td>어느</td>\n",
              "      <td>...</td>\n",
              "      <td>None</td>\n",
              "      <td>None</td>\n",
              "      <td>None</td>\n",
              "      <td>None</td>\n",
              "      <td>None</td>\n",
              "      <td>None</td>\n",
              "      <td>None</td>\n",
              "      <td>None</td>\n",
              "      <td>None</td>\n",
              "      <td>None</td>\n",
              "    </tr>\n",
              "    <tr>\n",
              "      <th>4</th>\n",
              "      <td>남자</td>\n",
              "      <td>아비</td>\n",
              "      <td>라면</td>\n",
              "      <td>김윤진</td>\n",
              "      <td>보다</td>\n",
              "      <td>있다</td>\n",
              "      <td>어미</td>\n",
              "      <td>아들</td>\n",
              "      <td>입장</td>\n",
              "      <td>라면</td>\n",
              "      <td>...</td>\n",
              "      <td>None</td>\n",
              "      <td>None</td>\n",
              "      <td>None</td>\n",
              "      <td>None</td>\n",
              "      <td>None</td>\n",
              "      <td>None</td>\n",
              "      <td>None</td>\n",
              "      <td>None</td>\n",
              "      <td>None</td>\n",
              "      <td>None</td>\n",
              "    </tr>\n",
              "  </tbody>\n",
              "</table>\n",
              "<p>5 rows × 41 columns</p>\n",
              "</div>"
            ],
            "text/plain": [
              "     0    1   2    3   4    5   6   7      8   9   ...    31    32    33  \\\n",
              "0    민좆   파쇼  쌕기   종교  같이   깔다  수준  보솤  ㅋㅋㅋㅋㅋ  미군  ...  None  None  None   \n",
              "1   정유미  정준영  부부  막둥이  부부   보다  윤한  부부    나오다  바로  ...    부부    가다    제일   \n",
              "2    측정   영화  당신   마음  아직  여리다  에게  상처     주지  당신  ...  None  None  None   \n",
              "3  황당하다   소재  전개  쓰레기  같다  스토리  수준  초월     정말  어느  ...  None  None  None   \n",
              "4    남자   아비  라면  김윤진  보다   있다  어미  아들     입장  라면  ...  None  None  None   \n",
              "\n",
              "     34    35    36    37    38    39    40  \n",
              "0  None  None  None  None  None  None  None  \n",
              "1    없다  None  None  None  None  None  None  \n",
              "2  None  None  None  None  None  None  None  \n",
              "3  None  None  None  None  None  None  None  \n",
              "4  None  None  None  None  None  None  None  \n",
              "\n",
              "[5 rows x 41 columns]"
            ]
          },
          "execution_count": 5,
          "metadata": {},
          "output_type": "execute_result"
        }
      ],
      "source": [
        "df2 = pd.DataFrame(token_okt)\n",
        "df2.head()"
      ]
    },
    {
      "cell_type": "code",
      "execution_count": null,
      "id": "685bd2fa-e6b1-4025-8073-4feb4b571b32",
      "metadata": {
        "id": "685bd2fa-e6b1-4025-8073-4feb4b571b32"
      },
      "outputs": [],
      "source": [
        "tokenizer = Tokenizer()\n",
        "tokenizer.fit_on_texts(token_okt)\n",
        "sequences = tokenizer.texts_to_sequences(token_okt)\n",
        "vocab_size = len(tokenizer.word_index) + 1"
      ]
    },
    {
      "cell_type": "code",
      "execution_count": null,
      "id": "47aea215-6e05-474c-8223-3de83fec4f50",
      "metadata": {
        "id": "47aea215-6e05-474c-8223-3de83fec4f50",
        "outputId": "fa7a374c-fd80-4a39-9b8f-e536b4538293"
      },
      "outputs": [
        {
          "name": "stdout",
          "output_type": "stream",
          "text": [
            "11684\n"
          ]
        }
      ],
      "source": [
        "print(vocab_size)"
      ]
    },
    {
      "cell_type": "code",
      "execution_count": null,
      "id": "e576da8c-c395-4f08-afd2-33837d0bd992",
      "metadata": {
        "id": "e576da8c-c395-4f08-afd2-33837d0bd992",
        "outputId": "df185471-35ca-4278-9bae-8b64fdc0963e"
      },
      "outputs": [
        {
          "name": "stdout",
          "output_type": "stream",
          "text": [
            "최대 시퀀스 길이 (Okt() 토큰 기준): 41\n",
            "평균 시퀀스 길이 (Okt() 토큰 기준): 31\n"
          ]
        }
      ],
      "source": [
        "# 8. 패딩 길이 결정을 위한 시퀀스 길이 분포 확인\n",
        "sequence_lengths = [len(s) for s in sequences]\n",
        "print(f\"최대 시퀀스 길이 (Okt() 토큰 기준): {max(sequence_lengths)}\")\n",
        "print(f\"평균 시퀀스 길이 (Okt() 토큰 기준): {np.mean(sequence_lengths):.0f}\")"
      ]
    },
    {
      "cell_type": "code",
      "execution_count": null,
      "id": "cedbcf86-08a1-4ff5-a645-462bb8594ba0",
      "metadata": {
        "id": "cedbcf86-08a1-4ff5-a645-462bb8594ba0",
        "outputId": "c15bb059-cfd8-4480-ecaf-1c377b04e2ce"
      },
      "outputs": [
        {
          "name": "stdout",
          "output_type": "stream",
          "text": [
            "\n",
            "패딩된 시퀀스 shape: (3000, 40)\n",
            "패딩된 시퀀스 예시 (첫 번째 리뷰): [   0    0    0    0    0    0    0    0    0    0 4110 5979 4111  717\n",
            "  201  585  106 5980 4112 1924 1557  209  223  616  148 5981  114  255\n",
            " 1924   68 1925    3 5982 2213 5983  543    4 4110 1114 4113]\n"
          ]
        }
      ],
      "source": [
        "pad_len = 40\n",
        "padded_sequences = pad_sequences(sequences, maxlen=pad_len,padding='pre')\n",
        "\n",
        "print(f\"\\n패딩된 시퀀스 shape: {padded_sequences.shape}\")\n",
        "print(f\"패딩된 시퀀스 예시 (첫 번째 리뷰): {padded_sequences[0]}\")"
      ]
    },
    {
      "cell_type": "code",
      "execution_count": null,
      "id": "b92248cb-8f14-4da7-9844-9489bcfb0f6d",
      "metadata": {
        "id": "b92248cb-8f14-4da7-9844-9489bcfb0f6d",
        "outputId": "dae85200-8a52-48b8-f827-5cb381ecce54"
      },
      "outputs": [
        {
          "data": {
            "text/plain": [
              "dtype('int32')"
            ]
          },
          "execution_count": 10,
          "metadata": {},
          "output_type": "execute_result"
        }
      ],
      "source": [
        "padded_sequences.dtype"
      ]
    },
    {
      "cell_type": "code",
      "execution_count": null,
      "id": "5f6426ba-6f42-480f-9ec3-b672d29417ff",
      "metadata": {
        "id": "5f6426ba-6f42-480f-9ec3-b672d29417ff"
      },
      "outputs": [],
      "source": [
        "#sequences = np.array(sequences)\n",
        "X = padded_sequences[:,:-1]\n",
        "y = padded_sequences[:,-1]\n",
        "\n",
        "y = to_categorical(y, num_classes=vocab_size)"
      ]
    },
    {
      "cell_type": "code",
      "execution_count": null,
      "id": "2fdf80b2-a505-44a3-b585-54bab42c6bad",
      "metadata": {
        "id": "2fdf80b2-a505-44a3-b585-54bab42c6bad"
      },
      "outputs": [],
      "source": [
        "X_train, X_test, y_train, y_test = train_test_split(X, y, test_size=0.2, shuffle=False)"
      ]
    },
    {
      "cell_type": "code",
      "execution_count": null,
      "id": "302e2324-2848-4235-a628-da79ebdc567d",
      "metadata": {
        "id": "302e2324-2848-4235-a628-da79ebdc567d"
      },
      "outputs": [],
      "source": [
        "# 3. 실험 함수 정의\n",
        "embedding_dim = 64\n",
        "hidden_units = 64\n",
        "kernel_size =3"
      ]
    },
    {
      "cell_type": "code",
      "execution_count": null,
      "id": "f94faf03-94ac-4653-b48c-937001cf28e6",
      "metadata": {
        "id": "f94faf03-94ac-4653-b48c-937001cf28e6"
      },
      "outputs": [],
      "source": [
        "model = Sequential([\n",
        "    Embedding(input_dim=vocab_size, output_dim=embedding_dim),\n",
        "    Conv1D(filters=hidden_units, kernel_size=kernel_size, activation='tanh'),\n",
        "    GlobalMaxPooling1D(),\n",
        "    Dense(vocab_size, activation='sigmoid')])\n",
        "model.compile(optimizer='adam', loss='binary_crossentropy', metrics=['accuracy'])\n",
        "history = model.fit(X_train, y_train, validation_split=0.2, epochs=10, batch_size=32, verbose=0)"
      ]
    },
    {
      "cell_type": "code",
      "execution_count": null,
      "id": "397e0ac0-b1cb-4ac3-a342-d153a885a92a",
      "metadata": {
        "id": "397e0ac0-b1cb-4ac3-a342-d153a885a92a",
        "outputId": "d1a7a0f1-8ea9-453a-cf6d-edc2fd2b5f37"
      },
      "outputs": [
        {
          "data": {
            "text/plain": [
              "[<matplotlib.lines.Line2D at 0x1fffccb00a0>]"
            ]
          },
          "execution_count": 15,
          "metadata": {},
          "output_type": "execute_result"
        },
        {
          "data": {
            "image/png": "[encoded data removed]",
            "text/plain": [
              "<Figure size 640x480 with 1 Axes>"
            ]
          },
          "metadata": {},
          "output_type": "display_data"
        }
      ],
      "source": [
        "plt.plot(history.history['loss'])"
      ]
    },
    {
      "cell_type": "code",
      "execution_count": null,
      "id": "f7e9aaec-d9eb-4ee2-8ddf-6fea47c0b601",
      "metadata": {
        "id": "f7e9aaec-d9eb-4ee2-8ddf-6fea47c0b601"
      },
      "outputs": [],
      "source": []
    }
  ],
  "metadata": {
    "kernelspec": {
      "display_name": "Python 3 (ipykernel)",
      "language": "python",
      "name": "python3"
    },
    "language_info": {
      "codemirror_mode": {
        "name": "ipython",
        "version": 3
      },
      "file_extension": ".py",
      "mimetype": "text/x-python",
      "name": "python",
      "nbconvert_exporter": "python",
      "pygments_lexer": "ipython3",
      "version": "3.12.5"
    },
    "colab": {
      "provenance": [],
      "include_colab_link": true
    }
  },
  "nbformat": 4,
  "nbformat_minor": 5
}